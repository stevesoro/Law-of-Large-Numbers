# Importing library and the normal distribution function
import numpy as np
import matplotlib.pyplot as plt
from numpy.random import randn

# Setting a list for the quantity of random numbers to be generated
N = [10, 100, 1000, 10000, 100000, 1000000, 10000000]
results = []

# Iterating to generate the sets of random numbers and the estimate of the average of those between -1 and 1 for each case
for i in N:
    counter = 0  # Resetting counter for each value of N
    for j in randn(i):
        if j > -1 and j < 1:
            counter += 1
    results.append(counter / i)
    print(f"For N = {i}, result = {counter / i}")


# Creating a chart to vizualize the convergence to 0.68
plt.figure(figsize = (10, 6))
plt.plot(N, results, linestyle = '-', color = 'b', label = 'Proportion within [-1, 1]')
plt.axhline(y = 0.68, color = 'red', linestyle = '--', label = 'y = 0.68')
plt.xscale('log') # Log scale for x-axis
plt.xlabel('Number of Random Samples (N)')
plt.ylabel('Proportion within [-1, 1]')
plt.title('Proportion of Random Samples within [-1, 1] vs. Number of Samples (N)')
plt.legend(loc = "upper right")
plt.show()
